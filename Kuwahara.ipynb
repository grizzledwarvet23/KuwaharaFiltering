{
 "cells": [
  {
   "cell_type": "code",
   "execution_count": 1,
   "metadata": {},
   "outputs": [],
   "source": [
    "from PIL import Image"
   ]
  },
  {
   "cell_type": "code",
   "execution_count": 2,
   "metadata": {},
   "outputs": [],
   "source": [
    "image_path = \"ryan.jpg\"\n",
    "img = Image.open(image_path)"
   ]
  },
  {
   "cell_type": "code",
   "execution_count": 4,
   "metadata": {},
   "outputs": [],
   "source": [
    "width, height = img.size\n",
    "\n",
    "#kuwahara filter time\n",
    "for y in range(height):\n",
    "    for x in range(width):\n",
    "        r, g, b = img.getpixel((x, y))\n",
    "\n",
    "        img.putpixel((x, y), (r, r, r))\n",
    "# img.save(\"ryan_modified.jpg\")"
   ]
  },
  {
   "cell_type": "code",
   "execution_count": 5,
   "metadata": {},
   "outputs": [],
   "source": [
    "filtered_img = Image.new('RGB', (width, height), \"black\")"
   ]
  },
  {
   "cell_type": "code",
   "execution_count": 6,
   "metadata": {},
   "outputs": [],
   "source": [
    "import colorsys"
   ]
  },
  {
   "cell_type": "code",
   "execution_count": 10,
   "metadata": {},
   "outputs": [],
   "source": [
    "def get_mean_and_SD(img, x_min, x_max, y_min, y_max):\n",
    "    mean = 0\n",
    "    rgb_mean = [0, 0, 0]\n",
    "    SD = 0\n",
    "    for y in range(y_min, y_max):\n",
    "        for x in range(x_min, x_max):\n",
    "            #before adding to mean, convert the rgb to hsv and use the v value:\n",
    "            h, s, v = colorsys.rgb_to_hsv(img.getpixel((x, y))[0], img.getpixel((x, y))[1], img.getpixel((x, y))[2])\n",
    "            rgb_mean[0] += img.getpixel((x, y))[0]\n",
    "            rgb_mean[1] += img.getpixel((x, y))[1]\n",
    "            rgb_mean[2] += img.getpixel((x, y))[2]\n",
    "            mean += v\n",
    "    mean //= (x_max - x_min) * (y_max - y_min)\n",
    "    rgb_mean[0] //= (x_max - x_min) * (y_max - y_min)\n",
    "    rgb_mean[1] //= (x_max - x_min) * (y_max - y_min)\n",
    "    rgb_mean[2] //= (x_max - x_min) * (y_max - y_min)\n",
    "    for y in range(y_min, y_max):\n",
    "        for x in range(x_min, x_max):\n",
    "            h, s, v = colorsys.rgb_to_hsv(img.getpixel((x, y))[0], img.getpixel((x, y))[1], img.getpixel((x, y))[2])\n",
    "            SD += (v - mean) ** 2\n",
    "    SD /= (x_max - x_min) * (y_max - y_min)\n",
    "    SD = SD ** 0.5\n",
    "    return rgb_mean, SD\n",
    "\n",
    "def kuwahara(img, x, y, square_size):\n",
    "    #now its a ryan_modified is a grayscale image\n",
    "    #create a new image to store the filtered image\n",
    "    #odd sized square\n",
    "    #iterate through each square\n",
    "    mean_tl, sd_tl = get_mean_and_SD(img, x - square_size // 2, x, y - square_size // 2, y)\n",
    "    mean_tr, sd_tr = get_mean_and_SD(img, x + 1, (x + 1) + square_size // 2, y - square_size // 2, y)\n",
    "    mean_bl, sd_bl = get_mean_and_SD(img, x - square_size // 2, x, y + 1, (y + 1) + square_size // 2)\n",
    "    mean_br, sd_br = get_mean_and_SD(img, x + 1, (x + 1) + square_size // 2, y + 1, (y + 1) + square_size // 2)\n",
    "    #choose corresponding mean based on smallest SD\n",
    "    mean = mean_tl\n",
    "    if sd_tr <= sd_tl and sd_tr <= sd_bl and sd_tr <= sd_br:\n",
    "        mean = mean_tr\n",
    "    elif sd_bl <= sd_tl and sd_bl <= sd_tr and sd_bl <= sd_br:\n",
    "        mean = mean_bl\n",
    "    elif sd_br <= sd_tl and sd_br <= sd_tr and sd_br <= sd_bl:\n",
    "        mean = mean_br\n",
    "    #set pixel to mean\n",
    "    filtered_img.putpixel((x, y), (mean[0], mean[1], mean[2]))"
   ]
  },
  {
   "cell_type": "code",
   "execution_count": 25,
   "metadata": {},
   "outputs": [],
   "source": [
    "#non parallelized version\n",
    "\n",
    "square_size = 3\n",
    "passes = 1\n",
    "\n",
    "#just iterate through x and y coords and call kuwahara on each\n",
    "img = Image.open(\"ryan.jpg\")\n",
    "\n",
    "for i in range(passes):\n",
    "    for y in range(square_size // 2, height - square_size // 2):\n",
    "        for x in range(square_size // 2, width - square_size // 2):\n",
    "            kuwahara(img, x, y, square_size)\n",
    "file_name = \"ryan_color_kuwahara\" + str(square_size) + \"_\" + str(passes) + \".jpg\"\n",
    "filtered_img.save(file_name)\n",
    "\n"
   ]
  },
  {
   "cell_type": "code",
   "execution_count": 16,
   "metadata": {},
   "outputs": [],
   "source": [
    "import concurrent.futures\n",
    "import numpy as np"
   ]
  },
  {
   "cell_type": "code",
   "execution_count": 28,
   "metadata": {},
   "outputs": [],
   "source": [
    "def process_image(img, square_size):\n",
    "    height, width = img.size[:2]\n",
    "    results = []\n",
    "\n",
    "    with concurrent.futures.ThreadPoolExecutor() as executor:\n",
    "        # Adjust the number of threads based on your requirements\n",
    "        num_threads = 4\n",
    "\n",
    "        # Calculate the number of rows each thread should process\n",
    "        rows_per_thread = (height - square_size) // num_threads\n",
    "\n",
    "        # Submit tasks to the ThreadPoolExecutor\n",
    "        futures = []\n",
    "        for i in range(num_threads):\n",
    "            start_row = square_size // 2 + i * rows_per_thread\n",
    "            end_row = start_row + rows_per_thread\n",
    "            if i == num_threads - 1:\n",
    "                end_row = height - square_size // 2\n",
    "\n",
    "            futures.append(\n",
    "                executor.submit(process_block, img, square_size, start_row, end_row)\n",
    "            )\n",
    "\n",
    "        # Wait for all tasks to complete\n",
    "        concurrent.futures.wait(futures)\n",
    "\n",
    "        # Retrieve results\n",
    "    #     results = [future.result() for future in futures]\n",
    "\n",
    "    # return results\n",
    "\n",
    "#splittin this by row chunks i guess\n",
    "def process_block(img, square_size, start_row, end_row):\n",
    "    height, width = img.size[:2]\n",
    "    processed_blocks = []\n",
    "\n",
    "    for y in range(start_row, end_row):\n",
    "        for x in range(square_size // 2, width - square_size // 2):\n",
    "            kuwahara(img, x, y, square_size)\n",
    "\n",
    "    return processed_blocks\n",
    "\n",
    "square_size = 3\n",
    "passes = 1\n",
    "\n",
    "img = Image.open(\"ryan.jpg\")\n",
    "\n",
    "\n",
    "results = process_image(img, square_size)\n",
    "\n",
    "file_name = \"ryan_color_kuwahara\" + str(square_size) + \"__\" + str(passes) + \".jpg\"\n",
    "filtered_img.save(file_name)"
   ]
  },
  {
   "cell_type": "code",
   "execution_count": null,
   "metadata": {},
   "outputs": [],
   "source": []
  }
 ],
 "metadata": {
  "kernelspec": {
   "display_name": "Python 3",
   "language": "python",
   "name": "python3"
  },
  "language_info": {
   "codemirror_mode": {
    "name": "ipython",
    "version": 3
   },
   "file_extension": ".py",
   "mimetype": "text/x-python",
   "name": "python",
   "nbconvert_exporter": "python",
   "pygments_lexer": "ipython3",
   "version": "3.10.11"
  }
 },
 "nbformat": 4,
 "nbformat_minor": 2
}
