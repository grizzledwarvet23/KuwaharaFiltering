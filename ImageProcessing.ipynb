{
 "cells": [
  {
   "cell_type": "code",
   "execution_count": 2,
   "metadata": {},
   "outputs": [],
   "source": [
    "from PIL import Image"
   ]
  },
  {
   "cell_type": "code",
   "execution_count": 3,
   "metadata": {},
   "outputs": [],
   "source": [
    "image_path = \"ryan.jpg\"\n",
    "img = Image.open(image_path)"
   ]
  },
  {
   "cell_type": "code",
   "execution_count": 4,
   "metadata": {},
   "outputs": [],
   "source": [
    "width, height = img.size\n",
    "\n",
    "#kuwahara filter time\n",
    "for y in range(height):\n",
    "    for x in range(width):\n",
    "        r, g, b = img.getpixel((x, y))\n",
    "\n",
    "        img.putpixel((x, y), (r, r, r))\n",
    "img.save(\"ryan_modified.jpg\")"
   ]
  },
  {
   "cell_type": "code",
   "execution_count": 5,
   "metadata": {},
   "outputs": [],
   "source": [
    "from concurrent.futures import ThreadPoolExecutor"
   ]
  },
  {
   "cell_type": "code",
   "execution_count": 6,
   "metadata": {},
   "outputs": [],
   "source": [
    "def get_mean_and_SD(img, x_min, x_max, y_min, y_max):\n",
    "    mean = 0\n",
    "    SD = 0\n",
    "    for y in range(y_min, y_max):\n",
    "        for x in range(x_min, x_max):\n",
    "            mean += img.getpixel((x, y))[0]\n",
    "    mean //= (x_max - x_min) * (y_max - y_min)\n",
    "    for y in range(y_min, y_max):\n",
    "        for x in range(x_min, x_max):\n",
    "            SD += (img.getpixel((x, y))[0] - mean) ** 2\n",
    "    SD /= (x_max - x_min) * (y_max - y_min)\n",
    "    SD = SD ** 0.5\n",
    "    return mean, SD\n",
    "\n",
    "#now its a ryan_modified is a grayscale image\n",
    "img = Image.open(\"ryan_modified.jpg\")\n",
    "#create a new image to store the filtered image\n",
    "filtered_img = Image.new('RGB', (width, height), \"black\")\n",
    "#odd sized square\n",
    "square_size = 5\n",
    "for y in range(square_size // 2, height - square_size // 2):\n",
    "    for x in range(square_size // 2, width - square_size // 2):\n",
    "        #iterate through each square\n",
    "        mean_tl, sd_tl = get_mean_and_SD(img, x - square_size // 2, x, y - square_size // 2, y)\n",
    "        mean_tr, sd_tr = get_mean_and_SD(img, x + 1, (x + 1) + square_size // 2, y - square_size // 2, y)\n",
    "        mean_bl, sd_bl = get_mean_and_SD(img, x - square_size // 2, x, y + 1, (y + 1) + square_size // 2)\n",
    "        mean_br, sd_br = get_mean_and_SD(img, x + 1, (x + 1) + square_size // 2, y + 1, (y + 1) + square_size // 2)\n",
    "        #choose corresponding mean based on smallest SD\n",
    "        mean = mean_tl\n",
    "        if sd_tr <= sd_tl and sd_tr <= sd_bl and sd_tr <= sd_br:\n",
    "            mean = mean_tr\n",
    "        elif sd_bl <= sd_tl and sd_bl <= sd_tr and sd_bl <= sd_br:\n",
    "            mean = mean_bl\n",
    "        elif sd_br <= sd_tl and sd_br <= sd_tr and sd_br <= sd_bl:\n",
    "            mean = mean_br\n",
    "        #set pixel to mean\n",
    "        filtered_img.putpixel((x, y), (mean, mean, mean))\n",
    "filtered_img.save(\"ryan_kuwahara_filtered.jpg\")"
   ]
  },
  {
   "cell_type": "code",
   "execution_count": null,
   "metadata": {},
   "outputs": [],
   "source": []
  }
 ],
 "metadata": {
  "kernelspec": {
   "display_name": "Python 3",
   "language": "python",
   "name": "python3"
  },
  "language_info": {
   "codemirror_mode": {
    "name": "ipython",
    "version": 3
   },
   "file_extension": ".py",
   "mimetype": "text/x-python",
   "name": "python",
   "nbconvert_exporter": "python",
   "pygments_lexer": "ipython3",
   "version": "3.10.11"
  }
 },
 "nbformat": 4,
 "nbformat_minor": 2
}
